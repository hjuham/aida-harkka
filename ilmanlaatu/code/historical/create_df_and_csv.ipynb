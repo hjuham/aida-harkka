{
 "cells": [
  {
   "cell_type": "code",
   "execution_count": 40,
   "metadata": {},
   "outputs": [],
   "source": [
    "import pandas as pd"
   ]
  },
  {
   "cell_type": "code",
   "execution_count": 41,
   "metadata": {},
   "outputs": [],
   "source": [
    "df2018 = pd.read_html(\"PM10_PM25_ylityspäivät_2018.xls\")\n",
    "df2019 = pd.read_html(\"PM10_PM25_ylityspäivät_2019.xls\")\n",
    "df2020 = pd.read_html(\"PM10_PM25_ylityspäivät_2020.xls\")\n",
    "df2021 = pd.read_html(\"PM10_PM25_ylityspäivät_2021.xls\")\n",
    "df2022 = pd.read_html(\"PM10_PM25_ylityspäivät_2022.xls\")\n",
    "df2023 = pd.read_html(\"PM10_PM25_ylityspäivät_2023.xls\")\n",
    "df2024 = pd.read_html(\"PM10_PM25_ylityspäivät_2024.xls\")\n",
    "df2018 = df2018[0]\n",
    "df2019 = df2019[0]\n",
    "df2020 = df2020[0]\n",
    "df2021 = df2021[0]\n",
    "df2022 = df2022[0]\n",
    "df2023 = df2023[0]\n",
    "df2024 = df2024[0]"
   ]
  },
  {
   "cell_type": "code",
   "execution_count": 45,
   "metadata": {},
   "outputs": [],
   "source": [
    "\n",
    "df = pd.concat([df2018, df2019, df2020, df2021, df2022, df2023, df2024], ignore_index=True)\n",
    "df.to_csv(\"PM10_PM25.csv\", index=False)\n"
   ]
  }
 ],
 "metadata": {
  "kernelspec": {
   "display_name": "geopandas",
   "language": "python",
   "name": "python3"
  },
  "language_info": {
   "codemirror_mode": {
    "name": "ipython",
    "version": 3
   },
   "file_extension": ".py",
   "mimetype": "text/x-python",
   "name": "python",
   "nbconvert_exporter": "python",
   "pygments_lexer": "ipython3",
   "version": "3.11.8"
  }
 },
 "nbformat": 4,
 "nbformat_minor": 2
}
