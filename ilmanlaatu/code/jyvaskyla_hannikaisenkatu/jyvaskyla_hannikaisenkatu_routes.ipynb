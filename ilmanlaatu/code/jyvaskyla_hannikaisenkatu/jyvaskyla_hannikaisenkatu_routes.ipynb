{
 "cells": [
  {
   "cell_type": "code",
   "execution_count": 1,
   "metadata": {},
   "outputs": [],
   "source": [
    "import csv\n",
    "import os\n",
    "import pandas as pd\n",
    "import pandas as pd\n",
    "import geopandas as gpd\n",
    "import json\n",
    "from shapely.geometry import Point\n",
    "import warnings\n",
    "warnings.filterwarnings('ignore')\n",
    "import os"
   ]
  },
  {
   "cell_type": "code",
   "execution_count": 2,
   "metadata": {},
   "outputs": [],
   "source": [
    "\n",
    "gdfs = []\n",
    "dfs= []\n",
    "\n",
    "import sys\n",
    "sys.path.append('../../code')\n",
    "from helpers.load_routes import load_routes\n",
    "load_routes(gdfs, dfs)"
   ]
  },
  {
   "cell_type": "code",
   "execution_count": 3,
   "metadata": {},
   "outputs": [],
   "source": [
    "all_routes_gdf = gpd.GeoDataFrame(pd.concat(gdfs))\n",
    "all_routes_df = pd.concat(dfs)\n",
    "\n",
    "lon = 25.74802\n",
    "lat = 62.2382\n",
    "geometry = [Point(lon, lat)]\n",
    "city_gdf = gpd.GeoDataFrame(geometry=geometry, crs=\"EPSG:4326\")"
   ]
  },
  {
   "cell_type": "code",
   "execution_count": 4,
   "metadata": {},
   "outputs": [
    {
     "name": "stdout",
     "output_type": "stream",
     "text": [
      "   existing_column  new_column\n",
      "0                1           2\n",
      "1                2           4\n",
      "2                3           6\n",
      "3                4           8\n",
      "4                5          10\n"
     ]
    }
   ],
   "source": [
    "from helpers.helper_function import modify_dataframe\n",
    "\n",
    "data = {'existing_column': [1, 2, 3, 4, 5]}\n",
    "df = pd.DataFrame(data)\n",
    "\n",
    "\n",
    "modify_dataframe(df)\n",
    "\n",
    "print(df)"
   ]
  },
  {
   "cell_type": "code",
   "execution_count": 5,
   "metadata": {},
   "outputs": [
    {
     "name": "stdout",
     "output_type": "stream",
     "text": [
      "                                                 geometry           id  \\\n",
      "563997  LINESTRING Z (433947.9038639356 6900304.972921...  103812761.0   \n",
      "649348  LINESTRING Z (436127.4843376157 6902451.286014...  104149714.0   \n",
      "649355  LINESTRING Z (435375.636376182 6901653.4285001...  104149741.0   \n",
      "649358  LINESTRING Z (434496.5677842289 6900921.610043...  104149759.0   \n",
      "686805  LINESTRING Z (435543.1396123257 6901869.733796...  104314629.0   \n",
      "...                                                   ...          ...   \n",
      "889686  LINESTRING Z (435267.8147193794 6901141.580923...  105418599.0   \n",
      "889695  LINESTRING Z (435272.8584494467 6901147.055444...  105418681.0   \n",
      "889707  LINESTRING Z (435275.2868283055 6901151.688835...  105418761.0   \n",
      "889719  LINESTRING Z (435272.6666741945 6901153.299279...  105418847.0   \n",
      "889730  LINESTRING Z (435273.1236336476 6901152.733331...  105418926.0   \n",
      "\n",
      "         previousId                sendingTime                    created  \\\n",
      "563997  103812742.0  2024-05-01 23:39:19+00:00  2024-05-01 23:41:26+00:00   \n",
      "649348  104149686.0  2024-05-05 04:45:35+00:00  2024-05-05 04:48:14+00:00   \n",
      "649355  104149714.0  2024-05-05 04:46:38+00:00  2024-05-05 04:49:14+00:00   \n",
      "649358  104149741.0  2024-05-05 04:47:36+00:00  2024-05-05 04:50:14+00:00   \n",
      "686805          NaN  2024-05-06 20:35:30+00:00  2024-05-06 20:38:23+00:00   \n",
      "...             ...                        ...                        ...   \n",
      "889686  105418512.0  2024-05-17 17:01:14+00:00  2024-05-17 17:04:11+00:00   \n",
      "889695  105418599.0  2024-05-17 17:04:14+00:00  2024-05-17 17:07:12+00:00   \n",
      "889707  105418681.0  2024-05-17 17:07:14+00:00  2024-05-17 17:10:12+00:00   \n",
      "889719  105418761.0  2024-05-17 17:10:14+00:00  2024-05-17 17:13:13+00:00   \n",
      "889730  105418847.0  2024-05-17 17:13:14+00:00  2024-05-17 17:15:14+00:00   \n",
      "\n",
      "             tasks                  startTime                    endTime  \\\n",
      "563997  [BRUSHING]  2024-05-01 23:39:20+00:00  2024-05-01 23:39:20+00:00   \n",
      "649348  [BRUSHING]  2024-05-05 04:45:33+00:00  2024-05-05 04:46:34+00:00   \n",
      "649355  [BRUSHING]  2024-05-05 04:46:34+00:00  2024-05-05 04:47:35+00:00   \n",
      "649358  [BRUSHING]  2024-05-05 04:47:35+00:00  2024-05-05 04:48:37+00:00   \n",
      "686805  [BRUSHING]  2024-05-06 20:35:34+00:00  2024-05-06 20:38:34+00:00   \n",
      "...            ...                        ...                        ...   \n",
      "889686  [BRUSHING]  2024-05-17 17:01:13+00:00  2024-05-17 17:04:14+00:00   \n",
      "889695  [BRUSHING]  2024-05-17 17:04:14+00:00  2024-05-17 17:07:14+00:00   \n",
      "889707  [BRUSHING]  2024-05-17 17:07:14+00:00  2024-05-17 17:10:14+00:00   \n",
      "889719  [BRUSHING]  2024-05-17 17:10:14+00:00  2024-05-17 17:13:14+00:00   \n",
      "889730  [BRUSHING]  2024-05-17 17:13:14+00:00  2024-05-17 17:13:14+00:00   \n",
      "\n",
      "       direction       domain              source 1000m   500m   100m  \n",
      "563997       NaN  state-roads  Harja/Väylävirasto  True  False  False  \n",
      "649348       NaN  state-roads  Harja/Väylävirasto  True  False  False  \n",
      "649355       NaN  state-roads  Harja/Väylävirasto  True   True   True  \n",
      "649358       NaN  state-roads  Harja/Väylävirasto  True  False  False  \n",
      "686805       NaN  state-roads  Harja/Väylävirasto  True  False  False  \n",
      "...          ...          ...                 ...   ...    ...    ...  \n",
      "889686       NaN  state-roads  Harja/Väylävirasto  True   True  False  \n",
      "889695       NaN  state-roads  Harja/Väylävirasto  True   True  False  \n",
      "889707       NaN  state-roads  Harja/Väylävirasto  True   True  False  \n",
      "889719       NaN  state-roads  Harja/Väylävirasto  True   True  False  \n",
      "889730       NaN  state-roads  Harja/Väylävirasto  True   True  False  \n",
      "\n",
      "[129 rows x 14 columns]\n"
     ]
    }
   ],
   "source": [
    "city_3067 = city_gdf\n",
    "routes_3067 = all_routes_gdf\n",
    "\n",
    "cols = routes_3067.columns\n",
    "city_routes = pd.DataFrame(columns=cols)\n",
    "\n",
    "city_routes[\"1000m\"] = \"\"\n",
    "city_routes[\"500m\"] = \"\"\n",
    "city_routes[\"100m\"] = \"\"\n",
    "\n",
    "\n",
    "from helpers.calculate_routes import calculate_routes\n",
    "calculate_routes(routes_3067, city_3067, city_routes)\n",
    "print(city_routes)"
   ]
  },
  {
   "cell_type": "code",
   "execution_count": 6,
   "metadata": {},
   "outputs": [],
   "source": [
    "import datetime\n",
    "datetime.date.today()\n",
    "date = datetime.date.today()\n",
    "export = city_routes\n",
    "export.to_csv(f\"jyvaskyla_routes_{date}.csv\", index=False)"
   ]
  }
 ],
 "metadata": {
  "kernelspec": {
   "display_name": "geopandas",
   "language": "python",
   "name": "python3"
  },
  "language_info": {
   "codemirror_mode": {
    "name": "ipython",
    "version": 3
   },
   "file_extension": ".py",
   "mimetype": "text/x-python",
   "name": "python",
   "nbconvert_exporter": "python",
   "pygments_lexer": "ipython3",
   "version": "3.11.8"
  }
 },
 "nbformat": 4,
 "nbformat_minor": 2
}
