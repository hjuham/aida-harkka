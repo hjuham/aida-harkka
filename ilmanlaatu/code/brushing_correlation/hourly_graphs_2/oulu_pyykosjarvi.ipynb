{
 "cells": [
  {
   "cell_type": "code",
   "execution_count": 17,
   "metadata": {},
   "outputs": [],
   "source": [
    "import pandas as pd\n",
    "import matplotlib.pyplot as plt\n",
    "from matplotlib.patches import Patch\n",
    "station = \"Oulu Pyykösjärvi\""
   ]
  },
  {
   "cell_type": "code",
   "execution_count": 18,
   "metadata": {},
   "outputs": [],
   "source": [
    "df = pd.read_csv(\"../hourly2.csv\")\n",
    "\n",
    "\n",
    "df = df[df[\"Havaintoasema\"] == station]\n",
    "df['Date'] = pd.to_datetime(df['Date'])\n",
    "df['Day'] = df['Date'].dt.date\n",
    "df['Hour'] = df['Date'].dt.hour"
   ]
  },
  {
   "cell_type": "code",
   "execution_count": 19,
   "metadata": {},
   "outputs": [],
   "source": [
    "days_with_routes = df[df['Alueet'] >= 1]['Day'].unique()\n",
    "\n",
    "def assign_color(value):\n",
    "    if value == 0:\n",
    "        return 'blue'\n",
    "    elif value == 1:\n",
    "        return 'green'\n",
    "    elif value == 2:\n",
    "        return 'yellow'\n",
    "    elif value == 3:\n",
    "        return 'red'\n",
    "    \n",
    "def assign_label(value):\n",
    "    if value == 0:\n",
    "        return 'Ei reittejä'\n",
    "    elif value == 1:\n",
    "        return 'Reittejä 1000m säteellä'\n",
    "    elif value == 2:\n",
    "        return 'Reittejä 500m säteellä'\n",
    "    elif value == 3:\n",
    "        return 'Reittejä 100m säteellä'"
   ]
  },
  {
   "cell_type": "code",
   "execution_count": 20,
   "metadata": {},
   "outputs": [],
   "source": [
    "for day in days_with_routes:\n",
    "    daily_data = df[df['Day'] == day]\n",
    "    \n",
    "    colors = [assign_color(x) for x in daily_data['Alueet']]\n",
    "    \n",
    "    plt.figure(figsize=(10, 6))\n",
    "    plt.bar(daily_data['Hour'], daily_data['Hengitettävät hiukkaset <10 µm [µg/m3]'], color=colors)\n",
    "    plt.xlabel('Tunti')\n",
    "    plt.ylabel('Hengitettävät hiukkaset <10 µm [µg/m3]')\n",
    "    day = pd.to_datetime(day).strftime('%d.%m.%Y')\n",
    "    plt.title(f'Ilmanlaatu {station} {day}')\n",
    "    plt.xticks(range(0, 24))\n",
    "    plt.grid(True)\n",
    "\n",
    "    unique_values = daily_data['Alueet'].unique()\n",
    "    legend_labels = [Patch(color=assign_color(val), label=assign_label(val)) for val in unique_values]\n",
    "    plt.legend(handles=legend_labels, title=\"Harjausreitit\")\n",
    "\n",
    "    plt.show()"
   ]
  }
 ],
 "metadata": {
  "kernelspec": {
   "display_name": "geopandas",
   "language": "python",
   "name": "python3"
  },
  "language_info": {
   "codemirror_mode": {
    "name": "ipython",
    "version": 3
   },
   "file_extension": ".py",
   "mimetype": "text/x-python",
   "name": "python",
   "nbconvert_exporter": "python",
   "pygments_lexer": "ipython3",
   "version": "3.11.8"
  }
 },
 "nbformat": 4,
 "nbformat_minor": 2
}
