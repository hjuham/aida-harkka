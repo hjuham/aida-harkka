{
 "cells": [
  {
   "cell_type": "code",
   "execution_count": 73,
   "metadata": {},
   "outputs": [],
   "source": [
    "import pandas as pd"
   ]
  },
  {
   "cell_type": "code",
   "execution_count": 74,
   "metadata": {},
   "outputs": [],
   "source": [
    "routes = pd.read_csv(\"jyska_routes_2024-06-04.csv\")\n",
    "aq = pd.read_csv(\"Jyväskylä Jyskä 5.3.2024 - 4.6.2024_7845726d-005e-4a28-925d-f8aa76982d2a.csv\")"
   ]
  },
  {
   "cell_type": "code",
   "execution_count": 75,
   "metadata": {},
   "outputs": [
    {
     "data": {
      "text/plain": [
       "Havaintoasema                                     object\n",
       "Vuosi                                              int64\n",
       "Kuukausi                                           int64\n",
       "Päivä                                              int64\n",
       "Aika [UTC]                                        object\n",
       "Hengitettävät hiukkaset <10 µm [µg/m3]           float64\n",
       "Pienhiukkaset <2.5 µm [µg/m3]                    float64\n",
       "Date                                      datetime64[ns]\n",
       "dtype: object"
      ]
     },
     "execution_count": 75,
     "metadata": {},
     "output_type": "execute_result"
    }
   ],
   "source": [
    "import numpy as np\n",
    "# Muunetaan \"-\" NaN arvoksi\n",
    "aq = aq.replace('-',np.NaN)\n",
    "aq[\"Date\"] = aq[\"Vuosi\"].astype(str) + \"-\" + aq[\"Kuukausi\"].astype(str) + \"-\" +  aq[\"Päivä\"].astype(str) + \" \" + aq[\"Aika [UTC]\"]\n",
    "aq[\"Date\"] = pd.to_datetime(aq[\"Date\"])\n",
    "aq[\"Hengitettävät hiukkaset <10 µm [µg/m3]\"] = aq[\"Hengitettävät hiukkaset <10 µm [µg/m3]\"].astype(float)\n",
    "aq[\"Pienhiukkaset <2.5 µm [µg/m3]\"] = aq[\"Pienhiukkaset <2.5 µm [µg/m3]\"].astype(float)\n",
    "aq.dtypes"
   ]
  },
  {
   "cell_type": "code",
   "execution_count": 76,
   "metadata": {},
   "outputs": [],
   "source": [
    "import datetime\n",
    "import warnings\n",
    "warnings.filterwarnings('ignore')\n",
    "\n",
    "\n",
    "routes[\"endTime\"] = pd.to_datetime(routes[\"endTime\"])\n",
    "routes[\"startTime\"] = pd.to_datetime(routes[\"startTime\"])\n",
    "duration_hours = (routes[\"endTime\"] - routes[\"startTime\"]).dt.total_seconds() / 3600\n",
    "\n",
    "duration_by_day = duration_hours.groupby(routes['endTime'].dt.to_period('d')).sum()\n",
    "duration_by_hour = duration_hours.groupby(routes['endTime'].dt.to_period('h')).sum()\n",
    "\n",
    "durations = duration_hours.groupby(routes['endTime']).sum()\n",
    "duration_by_day.index = duration_by_day.index.to_timestamp()\n",
    "duration_by_hour.index = duration_by_hour.index.to_timestamp()\n",
    "duration_by_day.name = \"brushing\""
   ]
  },
  {
   "cell_type": "code",
   "execution_count": 77,
   "metadata": {},
   "outputs": [],
   "source": [
    "#Päivittäiset keskiarvot\n",
    "filter_df = aq[[\"Date\",\"Hengitettävät hiukkaset <10 µm [µg/m3]\", \"Pienhiukkaset <2.5 µm [µg/m3]\"]]\n",
    "filter_df = filter_df.resample('D', on='Date').mean().reset_index()\n",
    "merge_df = filter_df.merge(duration_by_day, left_on=\"Date\", right_index=True, how=\"left\")\n",
    "\n",
    "\n",
    "merge_df[\"brushing\"] = merge_df[\"brushing\"].fillna(0)\n",
    "\n",
    "merge_df[\"boolean_brushing\"] = merge_df['brushing'].astype(bool).astype(int)"
   ]
  },
  {
   "cell_type": "code",
   "execution_count": 78,
   "metadata": {},
   "outputs": [
    {
     "name": "stdout",
     "output_type": "stream",
     "text": [
      "Ei harjausta: 16.02360033259424\n",
      "Harjausta: 21.22416666666667\n",
      "Harjauspäivien määrä: 10\n"
     ]
    }
   ],
   "source": [
    "no_brushing = merge_df[merge_df[\"boolean_brushing\"] == 0]\n",
    "print(f\"Ei harjausta: {no_brushing['Hengitettävät hiukkaset <10 µm [µg/m3]'].mean()}\")\n",
    "yes_brushing = merge_df[merge_df[\"boolean_brushing\"] > 0]\n",
    "print(f\"Harjausta: {yes_brushing['Hengitettävät hiukkaset <10 µm [µg/m3]'].mean()}\")\n",
    "print(f\"Harjauspäivien määrä: {len(yes_brushing)}\")"
   ]
  },
  {
   "cell_type": "code",
   "execution_count": 79,
   "metadata": {},
   "outputs": [
    {
     "name": "stdout",
     "output_type": "stream",
     "text": [
      "Ei harjausta edellisenä päivänä: 23.339166666666667\n",
      "Harjausta edellisenä päivänä: 15.856659184436964\n"
     ]
    }
   ],
   "source": [
    "merge_df['previous_day_brushing'] = merge_df[\"boolean_brushing\"].shift(1)\n",
    "\n",
    "\n",
    "# Filter DataFrame for days with rain and days without rain on the previous day\n",
    "brushing_previous_day = merge_df[merge_df['previous_day_brushing'] > 0]\n",
    "no_brushing_previous_day = merge_df[merge_df['previous_day_brushing'] == 0]\n",
    "\n",
    "# Calculate mean air quality for each group\n",
    "mean_air_quality_brushing = brushing_previous_day['Hengitettävät hiukkaset <10 µm [µg/m3]'].mean()\n",
    "mean_air_quality_non_brushing = no_brushing_previous_day['Hengitettävät hiukkaset <10 µm [µg/m3]'].mean()\n",
    "\n",
    "\n",
    "print(\"Ei harjausta edellisenä päivänä:\", mean_air_quality_brushing)\n",
    "print(\"Harjausta edellisenä päivänä:\", mean_air_quality_non_brushing)"
   ]
  },
  {
   "cell_type": "code",
   "execution_count": 81,
   "metadata": {},
   "outputs": [],
   "source": [
    "# TODO: Tuntikorrelaatio"
   ]
  }
 ],
 "metadata": {
  "kernelspec": {
   "display_name": "geopandas",
   "language": "python",
   "name": "python3"
  },
  "language_info": {
   "codemirror_mode": {
    "name": "ipython",
    "version": 3
   },
   "file_extension": ".py",
   "mimetype": "text/x-python",
   "name": "python",
   "nbconvert_exporter": "python",
   "pygments_lexer": "ipython3",
   "version": "3.11.8"
  }
 },
 "nbformat": 4,
 "nbformat_minor": 2
}
