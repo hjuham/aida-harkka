{
 "cells": [
  {
   "cell_type": "code",
   "execution_count": 1,
   "metadata": {},
   "outputs": [],
   "source": [
    "import csv\n",
    "import os\n",
    "import pandas as pd\n",
    "import pandas as pd\n",
    "import geopandas as gpd\n",
    "import json\n",
    "from shapely.geometry import Point\n",
    "import warnings\n",
    "warnings.filterwarnings('ignore')\n",
    "import os"
   ]
  },
  {
   "cell_type": "code",
   "execution_count": 2,
   "metadata": {},
   "outputs": [],
   "source": [
    "\n",
    "gdfs = []\n",
    "dfs= []\n",
    "\n",
    "import sys\n",
    "sys.path.append('../../code')\n",
    "from helpers.load_routes import load_routes\n",
    "load_routes(gdfs, dfs)"
   ]
  },
  {
   "cell_type": "code",
   "execution_count": 3,
   "metadata": {},
   "outputs": [],
   "source": [
    "all_routes_gdf = gpd.GeoDataFrame(pd.concat(gdfs))\n",
    "all_routes_df = pd.concat(dfs)\n",
    "\n",
    "lon = 25.84843\n",
    "lat = 62.2415\n",
    "geometry = [Point(lon, lat)]\n",
    "city_gdf = gpd.GeoDataFrame(geometry=geometry, crs=\"EPSG:4326\")"
   ]
  },
  {
   "cell_type": "code",
   "execution_count": 4,
   "metadata": {},
   "outputs": [
    {
     "name": "stdout",
     "output_type": "stream",
     "text": [
      "   existing_column  new_column\n",
      "0                1           2\n",
      "1                2           4\n",
      "2                3           6\n",
      "3                4           8\n",
      "4                5          10\n"
     ]
    }
   ],
   "source": [
    "from helpers.helper_function import modify_dataframe\n",
    "\n",
    "data = {'existing_column': [1, 2, 3, 4, 5]}\n",
    "df = pd.DataFrame(data)\n",
    "\n",
    "\n",
    "modify_dataframe(df)\n",
    "\n",
    "print(df)"
   ]
  },
  {
   "cell_type": "code",
   "execution_count": 5,
   "metadata": {},
   "outputs": [
    {
     "name": "stdout",
     "output_type": "stream",
     "text": [
      "                                                 geometry           id  \\\n",
      "508791  LINESTRING Z (440938.2472899101 6900996.033447...  103611726.0   \n",
      "508866  LINESTRING Z (440896.297902022 6900951.6422371...  103611840.0   \n",
      "510556  LINESTRING Z (440853.455015361 6900838.7397546...  103614446.0   \n",
      "510614  LINESTRING Z (440893.4332291249 6900942.444136...  103614530.0   \n",
      "513159  LINESTRING Z (440950.403560973 6901010.4169837...  103618269.0   \n",
      "...                                                   ...          ...   \n",
      "939419  LINESTRING Z (440952.1513144403 6901640.059120...  105928544.0   \n",
      "939667  LINESTRING Z (441342.1606994162 6902049.079532...  105929176.0   \n",
      "939678  LINESTRING Z (440107.5354391177 6901557.381129...  105929209.0   \n",
      "985630  LINESTRING Z (439010.2453064577 6901396.025938...  106646472.0   \n",
      "985632  LINESTRING Z (440434.8585372668 6901592.240160...  106646509.0   \n",
      "\n",
      "         previousId                sendingTime                    created  \\\n",
      "508791  103611607.0  2024-04-29 19:06:17+00:00  2024-04-29 19:08:20+00:00   \n",
      "508866  103611726.0  2024-04-29 19:09:17+00:00  2024-04-29 19:11:21+00:00   \n",
      "510556  103614356.0  2024-04-29 20:20:07+00:00  2024-04-29 20:22:41+00:00   \n",
      "510614  103614446.0  2024-04-29 20:23:07+00:00  2024-04-29 20:25:42+00:00   \n",
      "513159  103618209.0  2024-04-29 22:29:26+00:00  2024-04-29 22:32:11+00:00   \n",
      "...             ...                        ...                        ...   \n",
      "939419  105928511.0  2024-05-23 22:00:51+00:00  2024-05-23 22:03:01+00:00   \n",
      "939667  105929147.0  2024-05-23 22:23:46+00:00  2024-05-23 22:26:06+00:00   \n",
      "939678  105929176.0  2024-05-23 22:24:48+00:00  2024-05-23 22:27:06+00:00   \n",
      "985630  106646430.0  2024-06-03 14:47:38+00:00  2024-06-03 23:24:07+00:00   \n",
      "985632  106646472.0  2024-06-03 14:48:39+00:00  2024-06-03 23:24:07+00:00   \n",
      "\n",
      "             tasks                  startTime                    endTime  \\\n",
      "508791  [BRUSHING]  2024-04-29 19:06:17+00:00  2024-04-29 19:09:17+00:00   \n",
      "508866  [BRUSHING]  2024-04-29 19:09:17+00:00  2024-04-29 19:12:17+00:00   \n",
      "510556  [BRUSHING]  2024-04-29 20:20:07+00:00  2024-04-29 20:23:07+00:00   \n",
      "510614  [BRUSHING]  2024-04-29 20:23:07+00:00  2024-04-29 20:26:07+00:00   \n",
      "513159  [BRUSHING]  2024-04-29 22:29:26+00:00  2024-04-29 22:31:03+00:00   \n",
      "...            ...                        ...                        ...   \n",
      "939419  [BRUSHING]  2024-05-23 22:00:51+00:00  2024-05-23 22:01:52+00:00   \n",
      "939667  [BRUSHING]  2024-05-23 22:23:45+00:00  2024-05-23 22:24:46+00:00   \n",
      "939678  [BRUSHING]  2024-05-23 22:24:46+00:00  2024-05-23 22:25:47+00:00   \n",
      "985630  [BRUSHING]  2024-06-03 14:47:37+00:00  2024-06-03 14:48:38+00:00   \n",
      "985632  [BRUSHING]  2024-06-03 14:48:38+00:00  2024-06-03 14:49:39+00:00   \n",
      "\n",
      "       direction       domain              source 1000m   500m   100m  \n",
      "508791       NaN  state-roads  Harja/Väylävirasto  True  False  False  \n",
      "508866       NaN  state-roads  Harja/Väylävirasto  True  False  False  \n",
      "510556       NaN  state-roads  Harja/Väylävirasto  True  False  False  \n",
      "510614       NaN  state-roads  Harja/Väylävirasto  True  False  False  \n",
      "513159       NaN  state-roads  Harja/Väylävirasto  True  False  False  \n",
      "...          ...          ...                 ...   ...    ...    ...  \n",
      "939419       NaN  state-roads  Harja/Väylävirasto  True  False  False  \n",
      "939667       NaN  state-roads  Harja/Väylävirasto  True   True   True  \n",
      "939678       NaN  state-roads  Harja/Väylävirasto  True   True   True  \n",
      "985630       NaN  state-roads  Harja/Väylävirasto  True   True   True  \n",
      "985632       NaN  state-roads  Harja/Väylävirasto  True   True  False  \n",
      "\n",
      "[141 rows x 14 columns]\n"
     ]
    }
   ],
   "source": [
    "city_3067 = city_gdf\n",
    "routes_3067 = all_routes_gdf\n",
    "\n",
    "cols = routes_3067.columns\n",
    "city_routes = pd.DataFrame(columns=cols)\n",
    "\n",
    "city_routes[\"1000m\"] = \"\"\n",
    "city_routes[\"500m\"] = \"\"\n",
    "city_routes[\"100m\"] = \"\"\n",
    "\n",
    "\n",
    "from helpers.calculate_routes import calculate_routes\n",
    "calculate_routes(routes_3067, city_3067, city_routes)\n",
    "print(city_routes)"
   ]
  },
  {
   "cell_type": "code",
   "execution_count": 6,
   "metadata": {},
   "outputs": [],
   "source": [
    "import datetime\n",
    "datetime.date.today()\n",
    "date = datetime.date.today()\n",
    "export = city_routes\n",
    "export.to_csv(f\"jyska_routes_{date}.csv\", index=False)"
   ]
  }
 ],
 "metadata": {
  "kernelspec": {
   "display_name": "geopandas",
   "language": "python",
   "name": "python3"
  },
  "language_info": {
   "codemirror_mode": {
    "name": "ipython",
    "version": 3
   },
   "file_extension": ".py",
   "mimetype": "text/x-python",
   "name": "python",
   "nbconvert_exporter": "python",
   "pygments_lexer": "ipython3",
   "version": "3.11.8"
  }
 },
 "nbformat": 4,
 "nbformat_minor": 2
}
