{
 "cells": [
  {
   "cell_type": "code",
   "execution_count": 1,
   "metadata": {},
   "outputs": [],
   "source": [
    "import csv\n",
    "import os\n",
    "import pandas as pd\n",
    "import pandas as pd\n",
    "import geopandas as gpd\n",
    "import json\n",
    "from shapely.geometry import Point\n",
    "import warnings\n",
    "warnings.filterwarnings('ignore')\n",
    "import os"
   ]
  },
  {
   "cell_type": "code",
   "execution_count": 2,
   "metadata": {},
   "outputs": [],
   "source": [
    "\n",
    "gdfs = []\n",
    "dfs= []\n",
    "\n",
    "import sys\n",
    "sys.path.append('../../code')\n",
    "from helpers.load_routes import load_routes\n",
    "load_routes(gdfs, dfs)\n"
   ]
  },
  {
   "cell_type": "code",
   "execution_count": 3,
   "metadata": {},
   "outputs": [],
   "source": [
    "all_routes_gdf = gpd.GeoDataFrame(pd.concat(gdfs))\n",
    "all_routes_df = pd.concat(dfs)\n",
    "\n",
    "lon = 28.81\n",
    "lat = 61.15\n",
    "geometry = [Point(lon, lat)]\n",
    "city_gdf = gpd.GeoDataFrame(geometry=geometry, crs=\"EPSG:4326\")"
   ]
  },
  {
   "cell_type": "code",
   "execution_count": 4,
   "metadata": {},
   "outputs": [
    {
     "name": "stdout",
     "output_type": "stream",
     "text": [
      "   existing_column  new_column\n",
      "0                1           2\n",
      "1                2           4\n",
      "2                3           6\n",
      "3                4           8\n",
      "4                5          10\n"
     ]
    }
   ],
   "source": [
    "from helpers.helper_function import modify_dataframe\n",
    "\n",
    "data = {'existing_column': [1, 2, 3, 4, 5]}\n",
    "df = pd.DataFrame(data)\n",
    "\n",
    "\n",
    "modify_dataframe(df)\n",
    "\n",
    "print(df)"
   ]
  },
  {
   "cell_type": "code",
   "execution_count": 5,
   "metadata": {},
   "outputs": [
    {
     "name": "stdout",
     "output_type": "stream",
     "text": [
      "                                                 geometry           id  \\\n",
      "257872  LINESTRING Z (596623.9574692943 6781640.816879...  102008285.0   \n",
      "257896  LINESTRING Z (596851.5499226127 6781508.105476...  102008354.0   \n",
      "257922  LINESTRING Z (597027.4633689716 6781396.940062...  102008422.0   \n",
      "257962  LINESTRING Z (597032.9194439342 6781396.310403...  102008521.0   \n",
      "257995  LINESTRING Z (597028.9053552102 6781395.419628...  102008628.0   \n",
      "...                                                   ...          ...   \n",
      "280535  LINESTRING Z (597629.1872921737 6780194.396977...  102065667.0   \n",
      "280564  LINESTRING Z (597568.688139633 6779988.5568469...  102065814.0   \n",
      "280565  LINESTRING Z (597544.6390862268 6779849.367325...  102065816.0   \n",
      "280581  LINESTRING Z (597363.6838351001 6780912.646835...  102065922.0   \n",
      "280582  LINESTRING Z (597356.3586337266 6780916.567588...  102065923.0   \n",
      "\n",
      "         previousId                sendingTime                    created  \\\n",
      "257872  102008200.0  2024-04-16 14:07:00+00:00  2024-04-16 14:07:54+00:00   \n",
      "257896  102008285.0  2024-04-16 14:08:00+00:00  2024-04-16 14:08:55+00:00   \n",
      "257922  102008354.0  2024-04-16 14:09:00+00:00  2024-04-16 14:09:56+00:00   \n",
      "257962  102008422.0  2024-04-16 14:10:00+00:00  2024-04-16 14:10:56+00:00   \n",
      "257995  102008521.0  2024-04-16 14:11:00+00:00  2024-04-16 14:11:57+00:00   \n",
      "...             ...                        ...                        ...   \n",
      "280535  102065526.0  2024-04-17 06:26:00+00:00  2024-04-17 06:26:42+00:00   \n",
      "280564  102065603.0  2024-04-17 06:27:00+00:00  2024-04-17 06:27:44+00:00   \n",
      "280565  102065667.0  2024-04-17 06:27:00+00:00  2024-04-17 06:27:44+00:00   \n",
      "280581  102065814.0  2024-04-17 06:28:00+00:00  2024-04-17 06:28:44+00:00   \n",
      "280582  102065816.0  2024-04-17 06:28:00+00:00  2024-04-17 06:28:44+00:00   \n",
      "\n",
      "             tasks                  startTime                    endTime  \\\n",
      "257872  [BRUSHING]  2024-04-16 14:04:56+00:00  2024-04-16 14:05:51+00:00   \n",
      "257896  [BRUSHING]  2024-04-16 14:05:51+00:00  2024-04-16 14:06:23+00:00   \n",
      "257922  [BRUSHING]  2024-04-16 14:06:23+00:00  2024-04-16 14:07:47+00:00   \n",
      "257962  [BRUSHING]  2024-04-16 14:07:47+00:00  2024-04-16 14:08:55+00:00   \n",
      "257995  [BRUSHING]  2024-04-16 14:08:55+00:00  2024-04-16 14:09:53+00:00   \n",
      "...            ...                        ...                        ...   \n",
      "280535  [BRUSHING]  2024-04-17 06:23:58+00:00  2024-04-17 06:24:57+00:00   \n",
      "280564  [BRUSHING]  2024-04-17 06:24:57+00:00  2024-04-17 06:25:52+00:00   \n",
      "280565  [BRUSHING]  2024-04-17 06:24:57+00:00  2024-04-17 06:25:52+00:00   \n",
      "280581  [BRUSHING]  2024-04-17 06:25:52+00:00  2024-04-17 06:26:50+00:00   \n",
      "280582  [BRUSHING]  2024-04-17 06:25:52+00:00  2024-04-17 06:26:58+00:00   \n",
      "\n",
      "       direction       domain              source 1000m   500m   100m  \n",
      "257872     125.0  state-roads  Harja/Väylävirasto  True  False  False  \n",
      "257896     101.0  state-roads  Harja/Väylävirasto  True  False  False  \n",
      "257922     101.0  state-roads  Harja/Väylävirasto  True  False  False  \n",
      "257962     307.0  state-roads  Harja/Väylävirasto  True  False  False  \n",
      "257995     296.0  state-roads  Harja/Väylävirasto  True  False  False  \n",
      "...          ...          ...                 ...   ...    ...    ...  \n",
      "280535     342.0  state-roads  Harja/Väylävirasto  True  False  False  \n",
      "280564     302.0  state-roads  Harja/Väylävirasto  True   True   True  \n",
      "280565     303.0  state-roads  Harja/Väylävirasto  True   True   True  \n",
      "280581     356.0  state-roads  Harja/Väylävirasto  True   True   True  \n",
      "280582       3.0  state-roads  Harja/Väylävirasto  True   True  False  \n",
      "\n",
      "[62 rows x 14 columns]\n"
     ]
    }
   ],
   "source": [
    "city_3067 = city_gdf\n",
    "routes_3067 = all_routes_gdf\n",
    "\n",
    "cols = routes_3067.columns\n",
    "city_routes = pd.DataFrame(columns=cols)\n",
    "\n",
    "city_routes[\"1000m\"] = \"\"\n",
    "city_routes[\"500m\"] = \"\"\n",
    "city_routes[\"100m\"] = \"\"\n",
    "\n",
    "\n",
    "from helpers.calculate_routes import calculate_routes\n",
    "calculate_routes(routes_3067, city_3067, city_routes)\n",
    "print(city_routes)\n"
   ]
  },
  {
   "cell_type": "code",
   "execution_count": 6,
   "metadata": {},
   "outputs": [],
   "source": [
    "import datetime\n",
    "datetime.date.today()\n",
    "date = datetime.date.today()\n",
    "export = city_routes\n",
    "# kaarina_routes.to_csv(f\"kaarina_routes_{date}.csv\")\n",
    "export.to_csv(f\"imatra_routes_{date}.csv\", index=False)"
   ]
  }
 ],
 "metadata": {
  "kernelspec": {
   "display_name": "geopandas",
   "language": "python",
   "name": "python3"
  },
  "language_info": {
   "codemirror_mode": {
    "name": "ipython",
    "version": 3
   },
   "file_extension": ".py",
   "mimetype": "text/x-python",
   "name": "python",
   "nbconvert_exporter": "python",
   "pygments_lexer": "ipython3",
   "version": "3.11.8"
  }
 },
 "nbformat": 4,
 "nbformat_minor": 2
}
