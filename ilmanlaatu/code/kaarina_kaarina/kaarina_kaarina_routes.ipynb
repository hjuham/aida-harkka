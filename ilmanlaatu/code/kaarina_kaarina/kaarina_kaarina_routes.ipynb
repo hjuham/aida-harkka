{
 "cells": [
  {
   "cell_type": "code",
   "execution_count": 3,
   "metadata": {},
   "outputs": [],
   "source": [
    "import csv\n",
    "import os\n",
    "import pandas as pd"
   ]
  },
  {
   "cell_type": "code",
   "execution_count": 5,
   "metadata": {},
   "outputs": [],
   "source": [
    "import geopandas as gpd\n",
    "import json\n",
    "from shapely.geometry import Point\n",
    "import warnings\n",
    "warnings.filterwarnings('ignore')\n",
    "import os\n",
    "gdfs = []\n",
    "dfs= []\n",
    "\n",
    "json_dir = '../../data'\n",
    "for filename in os.listdir(json_dir):\n",
    "    if filename.endswith('.json'):\n",
    "        filepath = os.path.join(json_dir, filename)\n",
    "        response = open(filepath)\n",
    "        data = json.load(response)\n",
    "        df = pd.json_normalize(data[\"features\"], max_level=10)\n",
    "        gdf = gpd.read_file(filepath)\n",
    "        gdf = gdf.to_crs('EPSG:4326')\n",
    "        dfs.append(df)\n",
    "        gdfs.append(gdf)"
   ]
  },
  {
   "cell_type": "code",
   "execution_count": 6,
   "metadata": {},
   "outputs": [
    {
     "data": {
      "text/html": [
       "<div>\n",
       "<style scoped>\n",
       "    .dataframe tbody tr th:only-of-type {\n",
       "        vertical-align: middle;\n",
       "    }\n",
       "\n",
       "    .dataframe tbody tr th {\n",
       "        vertical-align: top;\n",
       "    }\n",
       "\n",
       "    .dataframe thead th {\n",
       "        text-align: right;\n",
       "    }\n",
       "</style>\n",
       "<table border=\"1\" class=\"dataframe\">\n",
       "  <thead>\n",
       "    <tr style=\"text-align: right;\">\n",
       "      <th></th>\n",
       "      <th>geometry</th>\n",
       "    </tr>\n",
       "  </thead>\n",
       "  <tbody>\n",
       "    <tr>\n",
       "      <th>0</th>\n",
       "      <td>POINT (22.38000 60.41000)</td>\n",
       "    </tr>\n",
       "  </tbody>\n",
       "</table>\n",
       "</div>"
      ],
      "text/plain": [
       "                    geometry\n",
       "0  POINT (22.38000 60.41000)"
      ]
     },
     "execution_count": 6,
     "metadata": {},
     "output_type": "execute_result"
    }
   ],
   "source": [
    "all_routes_gdf = gpd.GeoDataFrame(pd.concat(gdfs))\n",
    "all_routes_df = pd.concat(dfs)\n",
    "\n",
    "lon = 22.38\n",
    "lat = 60.41\n",
    "geometry = [Point(lon, lat)]\n",
    "kaarina_gdf = gpd.GeoDataFrame(geometry=geometry, crs=\"EPSG:4326\")\n",
    "kaarina_gdf"
   ]
  },
  {
   "cell_type": "code",
   "execution_count": 7,
   "metadata": {},
   "outputs": [],
   "source": [
    "kaarina_3067 = kaarina_gdf\n",
    "routes_3067 = all_routes_gdf\n",
    "\n",
    "\n",
    "\n",
    "\n",
    "routes_3067 = routes_3067.to_crs(\"EPSG:3067\")\n",
    "kaarina_3067 = kaarina_3067.to_crs(\"EPSG:3067\")\n",
    "\n",
    "# Kilometrin \"buffer\" alue havaintoasemalle\n",
    "kaarina_3067[\"buffer1000\"] = kaarina_3067.geometry.buffer(1000)\n",
    "kaarina_3067[\"buffer500\"] = kaarina_3067.geometry.buffer(500)\n",
    "kaarina_3067[\"buffer100\"] = kaarina_3067.geometry.buffer(100)\n",
    "\n",
    "\n",
    "\n",
    "timestamps1000 = []\n",
    "timestamps500 = []\n",
    "timestamps100 = []\n",
    "\n",
    "\n",
    "\n",
    "count1000 = 0\n",
    "count500 = 0\n",
    "count100 = 0\n",
    "\n",
    "# routes_3067\n",
    "# kaarina_3067\n",
    "for route in routes_3067.geometry:\n",
    "    if (route.intersects(kaarina_3067['buffer1000']) | route.within(kaarina_3067['buffer1000'])).any():\n",
    "        count1000 += 1\n",
    "        if (route.intersects(kaarina_3067['buffer500']) | route.within(kaarina_3067['buffer500'])).any():\n",
    "            count500 += 1\n",
    "            if (route.intersects(kaarina_3067['buffer100']) | route.within(kaarina_3067['buffer100'])).any():\n",
    "                count100 += 1\n",
    "\n",
    "kaarina_3067['Reitit(1000m)'] = count1000\n",
    "kaarina_3067['Reitit(500m)'] = count500\n",
    "kaarina_3067['Reitit(100m)'] = count100\n",
    "\n",
    "\n"
   ]
  },
  {
   "cell_type": "code",
   "execution_count": 8,
   "metadata": {},
   "outputs": [
    {
     "data": {
      "text/html": [
       "<div>\n",
       "<style scoped>\n",
       "    .dataframe tbody tr th:only-of-type {\n",
       "        vertical-align: middle;\n",
       "    }\n",
       "\n",
       "    .dataframe tbody tr th {\n",
       "        vertical-align: top;\n",
       "    }\n",
       "\n",
       "    .dataframe thead th {\n",
       "        text-align: right;\n",
       "    }\n",
       "</style>\n",
       "<table border=\"1\" class=\"dataframe\">\n",
       "  <thead>\n",
       "    <tr style=\"text-align: right;\">\n",
       "      <th></th>\n",
       "      <th>geometry</th>\n",
       "      <th>buffer1000</th>\n",
       "      <th>buffer500</th>\n",
       "      <th>buffer100</th>\n",
       "      <th>Reitit(1000m)</th>\n",
       "      <th>Reitit(500m)</th>\n",
       "      <th>Reitit(100m)</th>\n",
       "    </tr>\n",
       "  </thead>\n",
       "  <tbody>\n",
       "    <tr>\n",
       "      <th>0</th>\n",
       "      <td>POINT (245643.727 6705998.062)</td>\n",
       "      <td>POLYGON ((246643.727 6705998.062, 246638.912 6...</td>\n",
       "      <td>POLYGON ((246143.727 6705998.062, 246141.319 6...</td>\n",
       "      <td>POLYGON ((245743.727 6705998.062, 245743.245 6...</td>\n",
       "      <td>232</td>\n",
       "      <td>134</td>\n",
       "      <td>19</td>\n",
       "    </tr>\n",
       "  </tbody>\n",
       "</table>\n",
       "</div>"
      ],
      "text/plain": [
       "                         geometry  \\\n",
       "0  POINT (245643.727 6705998.062)   \n",
       "\n",
       "                                          buffer1000  \\\n",
       "0  POLYGON ((246643.727 6705998.062, 246638.912 6...   \n",
       "\n",
       "                                           buffer500  \\\n",
       "0  POLYGON ((246143.727 6705998.062, 246141.319 6...   \n",
       "\n",
       "                                           buffer100  Reitit(1000m)  \\\n",
       "0  POLYGON ((245743.727 6705998.062, 245743.245 6...            232   \n",
       "\n",
       "   Reitit(500m)  Reitit(100m)  \n",
       "0           134            19  "
      ]
     },
     "execution_count": 8,
     "metadata": {},
     "output_type": "execute_result"
    }
   ],
   "source": [
    "\n",
    "kaarina_3067"
   ]
  },
  {
   "cell_type": "code",
   "execution_count": 9,
   "metadata": {},
   "outputs": [
    {
     "name": "stdout",
     "output_type": "stream",
     "text": [
      "2024-03-05 ja 2024-04-15 välillä mitatut alueella olevat reitit:\n",
      "1000 metrin säde: 232\n",
      "500 metrin säde: 134\n",
      "1000 metrin säde: 19\n"
     ]
    }
   ],
   "source": [
    "list = os.listdir(json_dir)\n",
    "print(f\"{list[0].strip('.json')} ja {list[-2].strip('.json')} välillä mitatut alueella olevat reitit:\")\n",
    "print(f\"1000 metrin säde: {kaarina_3067.iloc[0]['Reitit(1000m)']}\")\n",
    "print(f\"500 metrin säde: {kaarina_3067.iloc[0]['Reitit(500m)']}\")\n",
    "print(f\"100 metrin säde: {kaarina_3067.iloc[0]['Reitit(100m)']}\")"
   ]
  },
  {
   "cell_type": "code",
   "execution_count": 10,
   "metadata": {},
   "outputs": [],
   "source": [
    "import numpy as np\n",
    "cols = routes_3067.columns\n",
    "kaarina_routes = pd.DataFrame(columns=cols)\n",
    "\n",
    "kaarina_routes[\"1000m\"] = \"\"\n",
    "kaarina_routes[\"500m\"] = \"\"\n",
    "kaarina_routes[\"100m\"] = \"\"\n",
    "\n",
    "\n",
    "for i in range(len(routes_3067)):\n",
    "    if (routes_3067.iloc[i][\"geometry\"].intersects(kaarina_3067['buffer1000']) | routes_3067.iloc[i][\"geometry\"].within(kaarina_3067['buffer1000'])).any():\n",
    "        kaarina_routes.loc[i] = routes_3067.iloc[i]\n",
    "        kaarina_routes[\"1000m\"].loc[i] = True\n",
    "        if (routes_3067.iloc[i][\"geometry\"].intersects(kaarina_3067['buffer500']) | routes_3067.iloc[i][\"geometry\"].within(kaarina_3067['buffer500'])).any():\n",
    "            kaarina_routes[\"500m\"].loc[i] = True\n",
    "            if (routes_3067.iloc[i][\"geometry\"].intersects(kaarina_3067['buffer100']) | routes_3067.iloc[i][\"geometry\"].within(kaarina_3067['buffer100'])).any():\n",
    "                     kaarina_routes[\"100m\"].loc[i] = True\n",
    "\n",
    "kaarina_routes[\"500m\"] = kaarina_routes[\"500m\"].fillna(False)\n",
    "kaarina_routes[\"100m\"] = kaarina_routes[\"100m\"].fillna(False)\n"
   ]
  },
  {
   "cell_type": "code",
   "execution_count": 11,
   "metadata": {},
   "outputs": [
    {
     "data": {
      "text/html": [
       "<div>\n",
       "<style scoped>\n",
       "    .dataframe tbody tr th:only-of-type {\n",
       "        vertical-align: middle;\n",
       "    }\n",
       "\n",
       "    .dataframe tbody tr th {\n",
       "        vertical-align: top;\n",
       "    }\n",
       "\n",
       "    .dataframe thead th {\n",
       "        text-align: right;\n",
       "    }\n",
       "</style>\n",
       "<table border=\"1\" class=\"dataframe\">\n",
       "  <thead>\n",
       "    <tr style=\"text-align: right;\">\n",
       "      <th></th>\n",
       "      <th>1000m</th>\n",
       "      <th>500m</th>\n",
       "      <th>100m</th>\n",
       "    </tr>\n",
       "  </thead>\n",
       "  <tbody>\n",
       "    <tr>\n",
       "      <th>643</th>\n",
       "      <td>True</td>\n",
       "      <td>False</td>\n",
       "      <td>False</td>\n",
       "    </tr>\n",
       "    <tr>\n",
       "      <th>644</th>\n",
       "      <td>True</td>\n",
       "      <td>True</td>\n",
       "      <td>False</td>\n",
       "    </tr>\n",
       "    <tr>\n",
       "      <th>645</th>\n",
       "      <td>True</td>\n",
       "      <td>True</td>\n",
       "      <td>False</td>\n",
       "    </tr>\n",
       "    <tr>\n",
       "      <th>646</th>\n",
       "      <td>True</td>\n",
       "      <td>True</td>\n",
       "      <td>False</td>\n",
       "    </tr>\n",
       "    <tr>\n",
       "      <th>647</th>\n",
       "      <td>True</td>\n",
       "      <td>True</td>\n",
       "      <td>False</td>\n",
       "    </tr>\n",
       "  </tbody>\n",
       "</table>\n",
       "</div>"
      ],
      "text/plain": [
       "    1000m   500m   100m\n",
       "643  True  False  False\n",
       "644  True   True  False\n",
       "645  True   True  False\n",
       "646  True   True  False\n",
       "647  True   True  False"
      ]
     },
     "execution_count": 11,
     "metadata": {},
     "output_type": "execute_result"
    }
   ],
   "source": [
    "kaarina_routes[[\"1000m\",\"500m\",\"100m\"]].head(5)"
   ]
  },
  {
   "cell_type": "code",
   "execution_count": 12,
   "metadata": {},
   "outputs": [
    {
     "data": {
      "text/plain": [
       "[[22.387908, 60.39881, 0.0],\n",
       " [22.387685, 60.399865, 0.0],\n",
       " [22.387875, 60.402937, 0.0]]"
      ]
     },
     "execution_count": 12,
     "metadata": {},
     "output_type": "execute_result"
    }
   ],
   "source": [
    "# Tarkastelu manuaalisesti\n",
    "route1 = all_routes_df.loc[all_routes_df[\"properties.id\"] == kaarina_routes[\"id\"].iloc[0]]\n",
    "route1[\"geometry.coordinates\"].values[0]\n"
   ]
  },
  {
   "cell_type": "code",
   "execution_count": 13,
   "metadata": {},
   "outputs": [
    {
     "name": "stdout",
     "output_type": "stream",
     "text": [
      "Alueella olevan vektoridatan määrä: 227\n",
      "Alueella olevan pistemäisen datan määrä: 5\n"
     ]
    }
   ],
   "source": [
    "# Kaarinan alueella olevien reittien tiedot\n",
    "linestring_count = 0\n",
    "point_count = 0\n",
    "for i in range(len(kaarina_routes)):\n",
    "    if kaarina_routes[\"geometry\"].iloc[i].geom_type == \"LineString\":\n",
    "        linestring_count += 1\n",
    "    elif kaarina_routes[\"geometry\"].iloc[i].geom_type == \"Point\":\n",
    "        point_count += 1\n",
    "    else:\n",
    "        print(\"error\")\n",
    "print(f\"Alueella olevan vektoridatan määrä: {linestring_count}\")\n",
    "print(f\"Alueella olevan pistemäisen datan määrä: {point_count}\")"
   ]
  },
  {
   "cell_type": "code",
   "execution_count": 36,
   "metadata": {},
   "outputs": [
    {
     "data": {
      "text/plain": [
       "endTime\n",
       "2024-03-14    1.719722\n",
       "2024-03-27    0.587778\n",
       "2024-03-28    1.673056\n",
       "2024-03-29    4.297222\n",
       "2024-04-11    0.589444\n",
       "Freq: D, dtype: float64"
      ]
     },
     "execution_count": 36,
     "metadata": {},
     "output_type": "execute_result"
    }
   ],
   "source": [
    "#Kaarinan havainstoaseman 1000m alueella suoritettujen reittien ajankohdat\n",
    "import datetime\n",
    "kaarina_routes[\"endTime\"] = pd.to_datetime(kaarina_routes[\"endTime\"])\n",
    "kaarina_routes[\"startTime\"] = pd.to_datetime(kaarina_routes[\"startTime\"])\n",
    "duration_hours = (kaarina_routes[\"endTime\"] - kaarina_routes[\"startTime\"]).dt.total_seconds() / 3600\n",
    "\n",
    "duration_by_day = duration_hours.groupby(kaarina_routes['endTime'].dt.to_period('D')).sum()\n",
    "duration_by_day\n"
   ]
  },
  {
   "cell_type": "code",
   "execution_count": 37,
   "metadata": {},
   "outputs": [
    {
     "data": {
      "text/plain": [
       "endTime\n",
       "2024-03-14    1.513611\n",
       "2024-03-27    0.226389\n",
       "2024-03-28    0.773889\n",
       "2024-03-29    2.230556\n",
       "2024-04-11    0.429167\n",
       "Freq: D, dtype: float64"
      ]
     },
     "execution_count": 37,
     "metadata": {},
     "output_type": "execute_result"
    }
   ],
   "source": [
    "#Kaarinan havainstoaseman 500m alueella suoritettujen reittien ajankohdat\n",
    "buffer500_df = kaarina_routes.loc[kaarina_routes[\"500m\"] == True]\n",
    "duration_hours = (buffer500_df[\"endTime\"] - buffer500_df[\"startTime\"]).dt.total_seconds() / 3600\n",
    "\n",
    "duration_by_day = duration_hours.groupby(buffer500_df['endTime'].dt.to_period('D')).sum()\n",
    "duration_by_day\n"
   ]
  },
  {
   "cell_type": "code",
   "execution_count": 38,
   "metadata": {},
   "outputs": [
    {
     "data": {
      "text/plain": [
       "endTime\n",
       "2024-03-27    0.039444\n",
       "2024-03-29    0.528611\n",
       "Freq: D, dtype: float64"
      ]
     },
     "execution_count": 38,
     "metadata": {},
     "output_type": "execute_result"
    }
   ],
   "source": [
    "#Kaarinan havainstoaseman 100m alueella suoritettujen reittien ajankohdat\n",
    "buffer100_df = kaarina_routes.loc[kaarina_routes[\"100m\"] == True]\n",
    "duration_hours = (buffer100_df[\"endTime\"] - buffer100_df[\"startTime\"]).dt.total_seconds() / 3600\n",
    "\n",
    "duration_by_day = duration_hours.groupby(buffer100_df['endTime'].dt.to_period('D')).sum()\n",
    "duration_by_day\n"
   ]
  },
  {
   "cell_type": "code",
   "execution_count": 62,
   "metadata": {},
   "outputs": [],
   "source": [
    "datetime.date.today()\n",
    "date = datetime.date.today()\n",
    "export = kaarina_routes\n",
    "# kaarina_routes.to_csv(f\"kaarina_routes_{date}.csv\")\n",
    "export.to_csv(f\"kaarina_routes_{date}.csv\", index=False)"
   ]
  }
 ],
 "metadata": {
  "kernelspec": {
   "display_name": "geopandas",
   "language": "python",
   "name": "python3"
  },
  "language_info": {
   "codemirror_mode": {
    "name": "ipython",
    "version": 3
   },
   "file_extension": ".py",
   "mimetype": "text/x-python",
   "name": "python",
   "nbconvert_exporter": "python",
   "pygments_lexer": "ipython3",
   "version": "3.11.5"
  }
 },
 "nbformat": 4,
 "nbformat_minor": 2
}
