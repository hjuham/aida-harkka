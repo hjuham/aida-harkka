{
 "cells": [
  {
   "cell_type": "code",
   "execution_count": 1,
   "metadata": {},
   "outputs": [],
   "source": [
    "import pandas as pd\n",
    "import geopandas as gpd"
   ]
  },
  {
   "cell_type": "code",
   "execution_count": 2,
   "metadata": {},
   "outputs": [
    {
     "data": {
      "text/html": [
       "<div>\n",
       "<style scoped>\n",
       "    .dataframe tbody tr th:only-of-type {\n",
       "        vertical-align: middle;\n",
       "    }\n",
       "\n",
       "    .dataframe tbody tr th {\n",
       "        vertical-align: top;\n",
       "    }\n",
       "\n",
       "    .dataframe thead th {\n",
       "        text-align: right;\n",
       "    }\n",
       "</style>\n",
       "<table border=\"1\" class=\"dataframe\">\n",
       "  <thead>\n",
       "    <tr style=\"text-align: right;\">\n",
       "      <th></th>\n",
       "      <th>Nimi</th>\n",
       "      <th>FMSID</th>\n",
       "      <th>LPNN</th>\n",
       "      <th>WMO</th>\n",
       "      <th>Lat</th>\n",
       "      <th>Lon</th>\n",
       "      <th>Korkeus</th>\n",
       "      <th>Ryhmät</th>\n",
       "      <th>Alkaen</th>\n",
       "      <th>geometry</th>\n",
       "      <th>buffer1000</th>\n",
       "      <th>buffer500</th>\n",
       "      <th>buffer100</th>\n",
       "      <th>Reitit(1000m)</th>\n",
       "      <th>Reitit(500m)</th>\n",
       "      <th>Reitit(100m)</th>\n",
       "      <th>count</th>\n",
       "    </tr>\n",
       "  </thead>\n",
       "  <tbody>\n",
       "    <tr>\n",
       "      <th>0</th>\n",
       "      <td>Virolahti Koivuniemi Ääpälä</td>\n",
       "      <td>100656</td>\n",
       "      <td>NaN</td>\n",
       "      <td>NaN</td>\n",
       "      <td>60.53</td>\n",
       "      <td>27.68</td>\n",
       "      <td>5.0</td>\n",
       "      <td>ilmanlaatu (IL)</td>\n",
       "      <td>2013</td>\n",
       "      <td>POINT (537320.0664718065 6710631.271684047)</td>\n",
       "      <td>POLYGON ((538320.0664718065 6710631.271684047,...</td>\n",
       "      <td>POLYGON ((537820.0664718065 6710631.271684047,...</td>\n",
       "      <td>POLYGON ((537420.0664718065 6710631.271684047,...</td>\n",
       "      <td>14</td>\n",
       "      <td>9</td>\n",
       "      <td>2</td>\n",
       "      <td>3</td>\n",
       "    </tr>\n",
       "    <tr>\n",
       "      <th>1</th>\n",
       "      <td>Espoo Leppävaara Läkkisepänkuja</td>\n",
       "      <td>100691</td>\n",
       "      <td>NaN</td>\n",
       "      <td>NaN</td>\n",
       "      <td>60.22</td>\n",
       "      <td>24.81</td>\n",
       "      <td>9.0</td>\n",
       "      <td>ilmanlaatu (kaupungit)</td>\n",
       "      <td>2010</td>\n",
       "      <td>POINT (378673.7750963532 6677925.3637112565)</td>\n",
       "      <td>POLYGON ((379673.7750963532 6677925.3637112565...</td>\n",
       "      <td>POLYGON ((379173.7750963532 6677925.3637112565...</td>\n",
       "      <td>POLYGON ((378773.7750963532 6677925.3637112565...</td>\n",
       "      <td>107</td>\n",
       "      <td>38</td>\n",
       "      <td>4</td>\n",
       "      <td>8</td>\n",
       "    </tr>\n",
       "    <tr>\n",
       "      <th>2</th>\n",
       "      <td>Harjavalta Pirkkala</td>\n",
       "      <td>103143</td>\n",
       "      <td>NaN</td>\n",
       "      <td>NaN</td>\n",
       "      <td>61.33</td>\n",
       "      <td>22.14</td>\n",
       "      <td>40.0</td>\n",
       "      <td>ilmanlaatu (kaupungit)</td>\n",
       "      <td>1990</td>\n",
       "      <td>POINT (240042.64854923848 6809227.108649717)</td>\n",
       "      <td>POLYGON ((241042.64854923848 6809227.108649717...</td>\n",
       "      <td>POLYGON ((240542.64854923848 6809227.108649717...</td>\n",
       "      <td>POLYGON ((240142.64854923848 6809227.108649717...</td>\n",
       "      <td>40</td>\n",
       "      <td>18</td>\n",
       "      <td>5</td>\n",
       "      <td>2</td>\n",
       "    </tr>\n",
       "    <tr>\n",
       "      <th>3</th>\n",
       "      <td>Helsinki Mäkelänkatu</td>\n",
       "      <td>100762</td>\n",
       "      <td>NaN</td>\n",
       "      <td>NaN</td>\n",
       "      <td>60.20</td>\n",
       "      <td>24.95</td>\n",
       "      <td>25.0</td>\n",
       "      <td>ilmanlaatu (kaupungit)</td>\n",
       "      <td>2015</td>\n",
       "      <td>POINT (386358.8842993917 6675449.520309521)</td>\n",
       "      <td>POLYGON ((387358.8842993917 6675449.520309521,...</td>\n",
       "      <td>POLYGON ((386858.8842993917 6675449.520309521,...</td>\n",
       "      <td>POLYGON ((386458.8842993917 6675449.520309521,...</td>\n",
       "      <td>28</td>\n",
       "      <td>0</td>\n",
       "      <td>0</td>\n",
       "      <td>12</td>\n",
       "    </tr>\n",
       "    <tr>\n",
       "      <th>4</th>\n",
       "      <td>Helsinki Vartiokylä Huivipolku</td>\n",
       "      <td>100803</td>\n",
       "      <td>NaN</td>\n",
       "      <td>NaN</td>\n",
       "      <td>60.22</td>\n",
       "      <td>25.10</td>\n",
       "      <td>25.0</td>\n",
       "      <td>ilmanlaatu (kaupungit)</td>\n",
       "      <td>2009</td>\n",
       "      <td>POINT (394736.59373211383 6677427.550134117)</td>\n",
       "      <td>POLYGON ((395736.59373211383 6677427.550134117...</td>\n",
       "      <td>POLYGON ((395236.59373211383 6677427.550134117...</td>\n",
       "      <td>POLYGON ((394836.59373211383 6677427.550134117...</td>\n",
       "      <td>140</td>\n",
       "      <td>48</td>\n",
       "      <td>0</td>\n",
       "      <td>2</td>\n",
       "    </tr>\n",
       "  </tbody>\n",
       "</table>\n",
       "</div>"
      ],
      "text/plain": [
       "                              Nimi   FMSID  LPNN  WMO    Lat    Lon  Korkeus  \\\n",
       "0      Virolahti Koivuniemi Ääpälä  100656   NaN  NaN  60.53  27.68      5.0   \n",
       "1  Espoo Leppävaara Läkkisepänkuja  100691   NaN  NaN  60.22  24.81      9.0   \n",
       "2              Harjavalta Pirkkala  103143   NaN  NaN  61.33  22.14     40.0   \n",
       "3             Helsinki Mäkelänkatu  100762   NaN  NaN  60.20  24.95     25.0   \n",
       "4   Helsinki Vartiokylä Huivipolku  100803   NaN  NaN  60.22  25.10     25.0   \n",
       "\n",
       "                   Ryhmät  Alkaen  \\\n",
       "0         ilmanlaatu (IL)    2013   \n",
       "1  ilmanlaatu (kaupungit)    2010   \n",
       "2  ilmanlaatu (kaupungit)    1990   \n",
       "3  ilmanlaatu (kaupungit)    2015   \n",
       "4  ilmanlaatu (kaupungit)    2009   \n",
       "\n",
       "                                       geometry  \\\n",
       "0   POINT (537320.0664718065 6710631.271684047)   \n",
       "1  POINT (378673.7750963532 6677925.3637112565)   \n",
       "2  POINT (240042.64854923848 6809227.108649717)   \n",
       "3   POINT (386358.8842993917 6675449.520309521)   \n",
       "4  POINT (394736.59373211383 6677427.550134117)   \n",
       "\n",
       "                                          buffer1000  \\\n",
       "0  POLYGON ((538320.0664718065 6710631.271684047,...   \n",
       "1  POLYGON ((379673.7750963532 6677925.3637112565...   \n",
       "2  POLYGON ((241042.64854923848 6809227.108649717...   \n",
       "3  POLYGON ((387358.8842993917 6675449.520309521,...   \n",
       "4  POLYGON ((395736.59373211383 6677427.550134117...   \n",
       "\n",
       "                                           buffer500  \\\n",
       "0  POLYGON ((537820.0664718065 6710631.271684047,...   \n",
       "1  POLYGON ((379173.7750963532 6677925.3637112565...   \n",
       "2  POLYGON ((240542.64854923848 6809227.108649717...   \n",
       "3  POLYGON ((386858.8842993917 6675449.520309521,...   \n",
       "4  POLYGON ((395236.59373211383 6677427.550134117...   \n",
       "\n",
       "                                           buffer100  Reitit(1000m)  \\\n",
       "0  POLYGON ((537420.0664718065 6710631.271684047,...             14   \n",
       "1  POLYGON ((378773.7750963532 6677925.3637112565...            107   \n",
       "2  POLYGON ((240142.64854923848 6809227.108649717...             40   \n",
       "3  POLYGON ((386458.8842993917 6675449.520309521,...             28   \n",
       "4  POLYGON ((394836.59373211383 6677427.550134117...            140   \n",
       "\n",
       "   Reitit(500m)  Reitit(100m)  count  \n",
       "0             9             2      3  \n",
       "1            38             4      8  \n",
       "2            18             5      2  \n",
       "3             0             0     12  \n",
       "4            48             0      2  "
      ]
     },
     "execution_count": 2,
     "metadata": {},
     "output_type": "execute_result"
    }
   ],
   "source": [
    "stations = pd.read_csv(\"stations_with_routes.csv\")\n",
    "stations_gdf = gpd.GeoDataFrame(stations)\n",
    "stations_gdf.head(5)"
   ]
  },
  {
   "cell_type": "code",
   "execution_count": 3,
   "metadata": {},
   "outputs": [],
   "source": [
    "gdfs = []\n",
    "dfs= []\n",
    "\n",
    "import sys\n",
    "sys.path.append('../../code')\n",
    "from helpers.load_routes import load_routes\n",
    "load_routes(gdfs, dfs)\n",
    "all_routes_gdf = gpd.GeoDataFrame(pd.concat(gdfs))"
   ]
  },
  {
   "cell_type": "code",
   "execution_count": 4,
   "metadata": {},
   "outputs": [
    {
     "data": {
      "text/plain": [
       "485227"
      ]
     },
     "execution_count": 4,
     "metadata": {},
     "output_type": "execute_result"
    }
   ],
   "source": [
    "len(all_routes_gdf)"
   ]
  },
  {
   "cell_type": "code",
   "execution_count": 10,
   "metadata": {},
   "outputs": [],
   "source": [
    "# Laske reitit kullekin raja-arvoja ylittäneelle havaintoasemlle\n",
    "from helpers.calculate_routes import calculate_routes\n",
    "from shapely.geometry import Point\n",
    "routes_3067 = all_routes_gdf\n",
    "\n",
    "\n",
    "\n",
    "\n",
    "cols = routes_3067.columns\n",
    "\n",
    "route_dfs = []\n",
    "\n",
    "# ~5 min per asema\n",
    "for i in range(len(stations_gdf)):\n",
    "    city_routes = pd.DataFrame(columns=cols)\n",
    "    city_routes[\"1000m\"] = \"\"\n",
    "    city_routes[\"500m\"] = \"\"\n",
    "    city_routes[\"100m\"] = \"\"\n",
    "    lon = stations_gdf[\"Lon\"].iloc[i]\n",
    "    lat = stations_gdf[\"Lat\"].iloc[i]\n",
    "    geometry = [Point(lon, lat)]\n",
    "    city_gdf = gpd.GeoDataFrame(geometry=geometry, crs=\"EPSG:4326\")\n",
    "    city_3067 = city_gdf\n",
    "    calculate_routes(routes_3067, city_3067, city_routes)\n",
    "    city_routes = gpd.GeoDataFrame(city_routes, crs=\"EPSG:3067\")\n",
    "    city_routes = city_routes.to_crs(\"EPSG:4326\")\n",
    "    city_routes[\"Havaintoaseman nimi\"] = stations_gdf[\"Nimi\"].iloc[i]\n",
    "    route_dfs.append(city_routes)\n"
   ]
  },
  {
   "cell_type": "code",
   "execution_count": 13,
   "metadata": {},
   "outputs": [
    {
     "data": {
      "text/plain": [
       "26"
      ]
     },
     "execution_count": 13,
     "metadata": {},
     "output_type": "execute_result"
    }
   ],
   "source": [
    "len(route_dfs)"
   ]
  },
  {
   "cell_type": "code",
   "execution_count": 17,
   "metadata": {},
   "outputs": [],
   "source": [
    "stations_routes = gpd.GeoDataFrame(pd.concat(route_dfs))"
   ]
  },
  {
   "cell_type": "code",
   "execution_count": 19,
   "metadata": {},
   "outputs": [],
   "source": [
    "export = stations_routes\n",
    "export.to_csv(\"routes_near_all_stations.csv\", index=False)"
   ]
  }
 ],
 "metadata": {
  "kernelspec": {
   "display_name": "geopandas",
   "language": "python",
   "name": "python3"
  },
  "language_info": {
   "codemirror_mode": {
    "name": "ipython",
    "version": 3
   },
   "file_extension": ".py",
   "mimetype": "text/x-python",
   "name": "python",
   "nbconvert_exporter": "python",
   "pygments_lexer": "ipython3",
   "version": "3.11.8"
  }
 },
 "nbformat": 4,
 "nbformat_minor": 2
}
