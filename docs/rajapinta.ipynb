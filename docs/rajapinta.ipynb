{
 "cells": [
  {
   "cell_type": "markdown",
   "metadata": {},
   "source": [
    "# Tienhoito\n",
    "\n",
    "### Rajapinnan tarkastelua web-sovelluksen toteuttamista varten\n"
   ]
  },
  {
   "cell_type": "code",
   "execution_count": 1,
   "metadata": {},
   "outputs": [],
   "source": [
    "baseUrl = \"https://tie.digitraffic.fi\"\n",
    "\n",
    "\n",
    "domains = \"/api/maintenance/v1/tracking/domains\" #Kunnossapidon domain\n",
    "tasks = \"/api/maintenance/v1/tracking/tasks\" #Ajoneuvojen tehtävätyypit\n",
    "routes = \"/api/maintenance/v1/tracking/routes\" #Ajoneuvojen seurantadata\n",
    "latest = \"/api/maintenance/v1/tracking/routes/latest\" #Ajoneuvon viimeisin sijainti\n",
    "\n",
    "jyvaskyla = \"?xMin=25&xMax=26&yMin=61&yMax=63\""
   ]
  },
  {
   "cell_type": "code",
   "execution_count": 2,
   "metadata": {},
   "outputs": [],
   "source": [
    "import requests\n",
    "import pandas as pd\n",
    "import json\n",
    "from datetime import datetime, timedelta"
   ]
  },
  {
   "cell_type": "markdown",
   "metadata": {},
   "source": [
    "#### Haetaan mahdolliset tehtävätyypit"
   ]
  },
  {
   "cell_type": "code",
   "execution_count": 3,
   "metadata": {},
   "outputs": [
    {
     "name": "stdout",
     "output_type": "stream",
     "text": [
      "https://tie.digitraffic.fi/api/maintenance/v1/tracking/tasks\n",
      "                           id                      nameFi  \\\n",
      "0                    BRUSHING                     Harjaus   \n",
      "1              BRUSH_CLEARING  Koneellinen vesakonraivaus   \n",
      "2        CLEANSING_OF_BRIDGES          Siltojen puhdistus   \n",
      "3     CLEANSING_OF_REST_AREAS  L- ja p-alueiden puhdistus   \n",
      "4  CLEANSING_OF_TRAFFIC_SIGNS  Liikennemerkkien puhdistus   \n",
      "\n",
      "                       nameEn                                    nameSv  \\\n",
      "0                    Brushing                                 Borstning   \n",
      "1              Brush clearing                              Slyklippning   \n",
      "2        Cleansing of bridges                        Rengöring av broar   \n",
      "3     Cleansing of rest areas  Rast- och parkeringsplatsernas rengöring   \n",
      "4  Cleansing of traffic signs                 Rengöring av trafikmärken   \n",
      "\n",
      "        dataUpdatedTime  \n",
      "0  2020-03-30T00:00:00Z  \n",
      "1  2020-04-09T00:00:00Z  \n",
      "2  2020-04-23T00:00:00Z  \n",
      "3  2020-03-30T00:00:00Z  \n",
      "4  2020-03-30T00:00:00Z  \n"
     ]
    }
   ],
   "source": [
    "response = requests.get(baseUrl+tasks)\n",
    "print(baseUrl+tasks)\n",
    "\n",
    "if response.status_code == 200:\n",
    "    json_data = response.json()\n",
    "    df = pd.DataFrame(json_data)\n",
    "else: \n",
    "    print(\"Failed to fetch data\")\n",
    "print(df.head())"
   ]
  },
  {
   "cell_type": "markdown",
   "metadata": {},
   "source": [
    "#### Haetaan domainit eli mahdolliset lähteet datalle"
   ]
  },
  {
   "cell_type": "code",
   "execution_count": 4,
   "metadata": {},
   "outputs": [
    {
     "name": "stdout",
     "output_type": "stream",
     "text": [
      "               name                          source       dataUpdatedTime\n",
      "0               all                     All domains                  None\n",
      "1    municipalities        All municipality domains                  None\n",
      "2       state-roads              Harja/Väylävirasto  2022-03-22T09:16:26Z\n",
      "3     autori-kuopio         Autori/Kuopion kaupunki  2022-03-22T08:22:06Z\n",
      "4       autori-oulu           Autori/Oulun kaupunki  2022-03-22T08:22:06Z\n",
      "5  paikannin-kuopio  Paikannin.com/Kuopion kaupunki  2022-04-12T07:37:25Z\n"
     ]
    }
   ],
   "source": [
    "response = requests.get(baseUrl + domains)\n",
    "if response.status_code == 200:\n",
    "    json_data = response.json()\n",
    "    df = pd.DataFrame(json_data)\n",
    "else: \n",
    "    print(\"Failed to fetch data\")\n",
    "print(df)"
   ]
  },
  {
   "cell_type": "markdown",
   "metadata": {},
   "source": [
    "#### Jyväskylän alueella olevan aurauskaluston tämänhetkinen sijainti (Rajaus jyväskylän alueeseen koordinaatein API:n pyöristäminen huomioiden ja rajaus auraustehtäviin)"
   ]
  },
  {
   "cell_type": "code",
   "execution_count": 5,
   "metadata": {},
   "outputs": [
    {
     "name": "stdout",
     "output_type": "stream",
     "text": [
      "https://tie.digitraffic.fi/api/maintenance/v1/tracking/routes/latest?taskId=PLOUGHING_AND_SLUSH_REMOVAL,LEVELLING_OF_ROAD_SURFACE&xMin=25&xMax=26&yMin=61&yMax=63\n",
      "62.349525 , 25.010638\n",
      "62.236548 , 25.888741\n",
      "62.565975 , 25.217393\n"
     ]
    }
   ],
   "source": [
    "params = \"?taskId=PLOUGHING_AND_SLUSH_REMOVAL,LEVELLING_OF_ROAD_SURFACE&xMin=25&xMax=26&yMin=61&yMax=63\" \n",
    "response = requests.get(baseUrl + latest + params)\n",
    "print(baseUrl + latest + params)\n",
    "if response.status_code == 200:\n",
    "    data = response.json()\n",
    "\n",
    "for i in data[\"features\"]:\n",
    "    print(i[\"geometry\"][\"coordinates\"][1], \",\", i[\"geometry\"][\"coordinates\"][0])"
   ]
  },
  {
   "cell_type": "markdown",
   "metadata": {},
   "source": [
    "#### Viimeisen 24 tunnin aikana suoritettujen reittien määrät tehtävätyypin mukaan\n",
    "Tarkastetaan mitä tehtävänimikkeitä tyypillisesti käytetään"
   ]
  },
  {
   "cell_type": "code",
   "execution_count": 7,
   "metadata": {},
   "outputs": [
    {
     "name": "stdout",
     "output_type": "stream",
     "text": [
      "https://tie.digitraffic.fi/api/maintenance/v1/tracking/routes?xMin=25&xMax=26&yMin=61&yMax=63\n",
      "{'MAINTENANCE_OF_GUIDE_SIGNS_AND_REFLECTOR_POSTS': 197, 'PLOUGHING_AND_SLUSH_REMOVAL': 3308, 'LEVELLING_OF_ROAD_SURFACE': 240, 'SALTING': 4140, 'ROAD_STATE_CHECKING': 707, 'LINE_SANDING': 17, 'CLEANSING_OF_TRAFFIC_SIGNS': 163, 'SPOT_SANDING': 67, 'LOWERING_OF_SNOWBANKS': 93}\n",
      "{'Point': 1028, 'LineString': 5631}\n"
     ]
    }
   ],
   "source": [
    "response = requests.get(baseUrl+routes+jyvaskyla)\n",
    "print(baseUrl+routes+jyvaskyla)\n",
    "if response.status_code == 200:\n",
    "    data = response.json()\n",
    "\n",
    "tasks = []\n",
    "for i in data[\"features\"]:\n",
    "    for j in i[\"properties\"][\"tasks\"]:\n",
    "       tasks.append(j)\n",
    "result = dict((i, tasks.count(i)) for i in tasks)\n",
    "print(result)\n",
    "\n",
    "# Reittityypit\n",
    "routetypes = []\n",
    "for i in data[\"features\"]:\n",
    "    routetypes.append(i[\"geometry\"][\"type\"])\n",
    "result2 = dict((i, routetypes.count(i)) for i in routetypes)\n",
    "print(result2)"
   ]
  },
  {
   "cell_type": "markdown",
   "metadata": {},
   "source": [
    "#### Jyväskylän alueella suoritetetut aurausreitit, viimeiset 24h"
   ]
  },
  {
   "cell_type": "code",
   "execution_count": null,
   "metadata": {},
   "outputs": [
    {
     "name": "stdout",
     "output_type": "stream",
     "text": [
      "https://tie.digitraffic.fi/api/maintenance/v1/tracking/routes?taskId=PLOUGHING_AND_SLUSH_REMOVAL,LEVELLING_OF_ROAD_SURFACE,LOWERING_OF_SNOWBANKS,REMOVAL_OF_BULGE_ICE&xMin=25&xMax=26&yMin=61&yMax=63\n",
      "Suoritettujen reittien määrä:  3660\n",
      "Reitin keskimääräinen kesto:  0:01:12.522678\n",
      "Reitin datapisteiden keskiarvo:  4.184699453551913\n",
      "Reitteihin käytetty aika yhteensä:  3 days, 1:43:53\n"
     ]
    }
   ],
   "source": [
    "params = \"?taskId=PLOUGHING_AND_SLUSH_REMOVAL,LEVELLING_OF_ROAD_SURFACE,LOWERING_OF_SNOWBANKS,REMOVAL_OF_BULGE_ICE&xMin=25&xMax=26&yMin=61&yMax=63\"\n",
    "\n",
    "\n",
    "#Aurauskaluston suorittamat reitit Jyväskylässä\n",
    "response = requests.get(baseUrl + routes + params)\n",
    "if response.status_code == 200:\n",
    "    data = response.json()\n",
    "\n",
    "\n",
    "print(baseUrl+routes+params)\n",
    "\n",
    "print(\"Suoritettujen reittien määrä: \",len(data[\"features\"]))\n",
    "# Data erittäin katkonaista. Todella moni olio sisältää vain muutaman koordinaattipisteen. \n",
    "#Syyt: tehtävän muuttuminen, sijaintiviestin aikaväli yli 5 min, sijaintien välinen laskennallinen nopeus yli 140km/h\n",
    "\n",
    "#Reitin keskimääräinen kesto ja data pisteet\n",
    "durations_plough = []\n",
    "num_of_data_points = []\n",
    "for i in data[\"features\"]:\n",
    "    start_date = i[\"properties\"][\"startTime\"]\n",
    "    parsed_start_date = datetime.strptime(start_date, \"%Y-%m-%dT%H:%M:%SZ\")\n",
    "    end_date = i[\"properties\"][\"endTime\"]\n",
    "    parsed_end_date = datetime.strptime(end_date, \"%Y-%m-%dT%H:%M:%SZ\")\n",
    "    duration = parsed_end_date - parsed_start_date\n",
    "    durations_plough.append(duration)\n",
    "    \n",
    "    #data points\n",
    "    num_of_data_points.append((len(i[\"geometry\"][\"coordinates\"])))\n",
    "\n",
    "\n",
    "total_duration = sum(durations_plough, timedelta())\n",
    "if len(durations_plough) != 0:\n",
    "    average_duration = total_duration / len(durations_plough)\n",
    "    print(\"Reitin keskimääräinen kesto: \", average_duration)\n",
    "    print(\"Reitin datapisteiden keskiarvo: \", sum(num_of_data_points) / len(num_of_data_points))\n",
    "    print (\"Reitteihin käytetty aika yhteensä: \", total_duration)\n"
   ]
  },
  {
   "cell_type": "markdown",
   "metadata": {},
   "source": [
    "#### Jyväskylän alueella suoritetut hiekoitusreitit, viimeiset 24h"
   ]
  },
  {
   "cell_type": "code",
   "execution_count": null,
   "metadata": {},
   "outputs": [
    {
     "name": "stdout",
     "output_type": "stream",
     "text": [
      "https://tie.digitraffic.fi/api/maintenance/v1/tracking/routes?taskId=LINE_SANDING,SPOT_SANDING,SPREADING_OF_CRUSH&xMin=25&xMax=26&yMin=61&yMax=63\n",
      "Suoritettujen reittien määrä:  84\n",
      "Reitin keskimääräinen kesto:  0:01:14.452381\n",
      "Reitin datapisteiden keskiarvo:  6.654761904761905\n",
      "Reitteihin käytetty aika yhteensä:  1:44:14\n"
     ]
    }
   ],
   "source": [
    "params = \"?taskId=LINE_SANDING,SPOT_SANDING,SPREADING_OF_CRUSH&xMin=25&xMax=26&yMin=61&yMax=63\"\n",
    "\n",
    "\n",
    "#Aurauskaluston suorittamat reitit Jyväskylässä\n",
    "response = requests.get(baseUrl + routes + params)\n",
    "if response.status_code == 200:\n",
    "    data = response.json()\n",
    "\n",
    "\n",
    "print(baseUrl+routes+params)\n",
    "\n",
    "print(\"Suoritettujen reittien määrä: \",len(data[\"features\"]))\n",
    "\n",
    "#Reitin keskimääräinen kesto ja data pisteet\n",
    "durations_sanding = []\n",
    "num_of_data_points = []\n",
    "for i in data[\"features\"]:\n",
    "    start_date = i[\"properties\"][\"startTime\"]\n",
    "    parsed_start_date = datetime.strptime(start_date, \"%Y-%m-%dT%H:%M:%SZ\")\n",
    "    end_date = i[\"properties\"][\"endTime\"]\n",
    "    parsed_end_date = datetime.strptime(end_date, \"%Y-%m-%dT%H:%M:%SZ\")\n",
    "    duration = parsed_end_date - parsed_start_date\n",
    "    durations_sanding.append(duration)\n",
    "    \n",
    "    #data points\n",
    "    num_of_data_points.append((len(i[\"geometry\"][\"coordinates\"])))\n",
    "\n",
    "\n",
    "total_duration = sum(durations_sanding, timedelta())\n",
    "if len(durations_sanding) != 0:\n",
    "    average_duration = total_duration / len(durations_sanding)\n",
    "    print(\"Reitin keskimääräinen kesto: \", average_duration)\n",
    "    print(\"Reitin datapisteiden keskiarvo: \", sum(num_of_data_points) / len(num_of_data_points))\n",
    "    print (\"Reitteihin käytetty aika yhteensä: \", total_duration)\n"
   ]
  },
  {
   "cell_type": "markdown",
   "metadata": {},
   "source": [
    "#### Jyväskylän alueella suoritetut harjausreitit, viimeiset 24h"
   ]
  },
  {
   "cell_type": "code",
   "execution_count": null,
   "metadata": {},
   "outputs": [
    {
     "name": "stdout",
     "output_type": "stream",
     "text": [
      "https://tie.digitraffic.fi/api/maintenance/v1/tracking/routes?taskId=BRUSHING&xMin=25&xMax=26&yMin=61&yMax=63\n",
      "Suoritettujen reittien määrä:  0\n"
     ]
    }
   ],
   "source": [
    "params = \"?taskId=BRUSHING&xMin=25&xMax=26&yMin=61&yMax=63\"\n",
    "\n",
    "\n",
    "response = requests.get(baseUrl + routes + params)\n",
    "if response.status_code == 200:\n",
    "    data = response.json()\n",
    "\n",
    "\n",
    "print(baseUrl+routes+params)\n",
    "\n",
    "print(\"Suoritettujen reittien määrä: \",len(data[\"features\"]))\n",
    "\n",
    "\n",
    "#Reitin keskimääräinen kesto ja data pisteet\n",
    "durations_brush = []\n",
    "num_of_data_points = []\n",
    "for i in data[\"features\"]:\n",
    "    start_date = i[\"properties\"][\"startTime\"]\n",
    "    parsed_start_date = datetime.strptime(start_date, \"%Y-%m-%dT%H:%M:%SZ\")\n",
    "    end_date = i[\"properties\"][\"endTime\"]\n",
    "    parsed_end_date = datetime.strptime(end_date, \"%Y-%m-%dT%H:%M:%SZ\")\n",
    "    duration = parsed_end_date - parsed_start_date\n",
    "    durations_brush.append(duration)\n",
    "    \n",
    "    #data points\n",
    "    num_of_data_points.append((len(i[\"geometry\"][\"coordinates\"])))\n",
    "\n",
    "\n",
    "total_duration = sum(durations_brush, timedelta())\n",
    "if len(durations_brush) != 0:\n",
    "    average_duration = total_duration / len(durations_brush)\n",
    "    print(\"Reitin keskimääräinen kesto: \", average_duration)\n",
    "    print(\"Reitin datapisteiden keskiarvo: \", sum(num_of_data_points) / len(num_of_data_points))\n",
    "    print (\"Reitteihin käytetty aika yhteensä: \", total_duration)\n"
   ]
  },
  {
   "cell_type": "markdown",
   "metadata": {},
   "source": [
    "#### Date test"
   ]
  },
  {
   "cell_type": "code",
   "execution_count": null,
   "metadata": {},
   "outputs": [
    {
     "name": "stdout",
     "output_type": "stream",
     "text": [
      "https://tie.digitraffic.fi/api/maintenance/v1/tracking/routes?taskId=PLOUGHING_AND_SLUSH_REMOVAL,LEVELLING_OF_ROAD_SURFACE,LOWERING_OF_SNOWBANKS,REMOVAL_OF_BULGE_ICE&xMin=25&xMax=26&yMin=61&yMax=63&endFrom=2024-02-15T00%3A00%3A00Z&endBefore=2024-02-15T10%3A00%3A00Z\n",
      "Suoritettujen reittien määrä:  649\n",
      "Reitin keskimääräinen kesto:  0:01:15.369800\n",
      "Reitin datapisteiden keskiarvo:  5.064714946070878\n",
      "Reitteihin käytetty aika yhteensä:  13:35:15\n"
     ]
    }
   ],
   "source": [
    "params = \"?taskId=PLOUGHING_AND_SLUSH_REMOVAL,LEVELLING_OF_ROAD_SURFACE,LOWERING_OF_SNOWBANKS,REMOVAL_OF_BULGE_ICE&xMin=25&xMax=26&yMin=61&yMax=63\"\n",
    "date = \"&endFrom=2024-02-15T00%3A00%3A00Z&endBefore=2024-02-15T10%3A00%3A00Z\"\n",
    "\n",
    "#Aurauskaluston suorittamat reitit Jyväskylässä\n",
    "response = requests.get(baseUrl + routes + params+ date)\n",
    "if response.status_code == 200:\n",
    "    data = response.json()\n",
    "\n",
    "\n",
    "print(baseUrl+routes+params+date)\n",
    "\n",
    "print(\"Suoritettujen reittien määrä: \",len(data[\"features\"]))\n",
    "# Data erittäin katkonaista. Todella moni olio sisältää vain muutaman koordinaattipisteen. \n",
    "#Syyt: tehtävän muuttuminen, sijaintiviestin aikaväli yli 5 min, sijaintien välinen laskennallinen nopeus yli 140km/h\n",
    "\n",
    "#Reitin keskimääräinen kesto ja data pisteet\n",
    "durations_test = []\n",
    "num_of_data_points = []\n",
    "for i in data[\"features\"]:\n",
    "    start_date = i[\"properties\"][\"startTime\"]\n",
    "    parsed_start_date = datetime.strptime(start_date, \"%Y-%m-%dT%H:%M:%SZ\")\n",
    "    end_date = i[\"properties\"][\"endTime\"]\n",
    "    parsed_end_date = datetime.strptime(end_date, \"%Y-%m-%dT%H:%M:%SZ\")\n",
    "    duration = parsed_end_date - parsed_start_date\n",
    "    durations_test.append(duration)\n",
    "    \n",
    "    #data points\n",
    "    num_of_data_points.append((len(i[\"geometry\"][\"coordinates\"])))\n",
    "\n",
    "\n",
    "total_duration = sum(durations_test, timedelta())\n",
    "if len(durations_test) != 0:\n",
    "    average_duration = total_duration / len(durations_test)\n",
    "    print(\"Reitin keskimääräinen kesto: \", average_duration)\n",
    "    print(\"Reitin datapisteiden keskiarvo: \", sum(num_of_data_points) / len(num_of_data_points))\n",
    "    print (\"Reitteihin käytetty aika yhteensä: \", total_duration)"
   ]
  }
 ],
 "metadata": {
  "kernelspec": {
   "display_name": "mlearn_env",
   "language": "python",
   "name": "python3"
  },
  "language_info": {
   "codemirror_mode": {
    "name": "ipython",
    "version": 3
   },
   "file_extension": ".py",
   "mimetype": "text/x-python",
   "name": "python",
   "nbconvert_exporter": "python",
   "pygments_lexer": "ipython3",
   "version": "3.10.8"
  }
 },
 "nbformat": 4,
 "nbformat_minor": 2
}
